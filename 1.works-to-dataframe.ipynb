{
 "cells": [
  {
   "cell_type": "markdown",
   "metadata": {
    "deletable": true,
    "editable": true
   },
   "source": [
    "# Create a dataframe of DOIs"
   ]
  },
  {
   "cell_type": "code",
   "execution_count": 1,
   "metadata": {
    "collapsed": true,
    "deletable": true,
    "editable": true
   },
   "outputs": [],
   "source": [
    "import os\n",
    "import lzma\n",
    "import csv\n",
    "\n",
    "import pymongo"
   ]
  },
  {
   "cell_type": "code",
   "execution_count": 2,
   "metadata": {
    "collapsed": true,
    "deletable": true,
    "editable": true
   },
   "outputs": [],
   "source": [
    "client = pymongo.MongoClient('localhost', 27017)\n",
    "crossref_db = client.crossref\n",
    "works = crossref_db.works"
   ]
  },
  {
   "cell_type": "code",
   "execution_count": 3,
   "metadata": {
    "collapsed": false,
    "deletable": true,
    "editable": true
   },
   "outputs": [
    {
     "data": {
      "text/plain": [
       "'87,542,370'"
      ]
     },
     "execution_count": 3,
     "metadata": {},
     "output_type": "execute_result"
    }
   ],
   "source": [
    "f'{works.count():,}'"
   ]
  },
  {
   "cell_type": "code",
   "execution_count": 4,
   "metadata": {
    "collapsed": true,
    "deletable": true,
    "editable": true
   },
   "outputs": [],
   "source": [
    "def get_issued_date(work):\n",
    "    \"\"\"\n",
    "    Get issued date from a work object, which is the \"Eariest of published-print\n",
    "    and published-online\" (https://git.io/vSBPz).\n",
    "    \"\"\"\n",
    "    issued, = work['issued']['date-parts']\n",
    "    if issued[0] is None:\n",
    "        return None\n",
    "    issued = '-'.join('{:02d}'.format(part) for part in issued)\n",
    "    return issued"
   ]
  },
  {
   "cell_type": "code",
   "execution_count": 5,
   "metadata": {
    "collapsed": false,
    "deletable": true,
    "editable": true
   },
   "outputs": [],
   "source": [
    "# Write a dois and issn mapping to a TSV file\n",
    "doi_path = os.path.join('data', 'doi.tsv.xz')\n",
    "issn_path = os.path.join('data', 'doi-to-issn.tsv.xz')\n",
    "with lzma.open(doi_path, 'wt') as doi_file, lzma.open(issn_path, 'wt') as issn_file:\n",
    "    # Initialize TSV of DOIs\n",
    "    doi_writer = csv.writer(doi_file, delimiter='\\t')\n",
    "    doi_writer.writerow(['doi', 'type', 'issued'])\n",
    "    # Initialize TSV of DOI-ISSN mapping\n",
    "    issn_writer = csv.writer(issn_file, delimiter='\\t')\n",
    "    issn_writer.writerow(['doi', 'issn'])\n",
    "    # Iterate through works\n",
    "    for work in works.find():\n",
    "        doi = work['DOI']\n",
    "        issued = get_issued_date(work)\n",
    "        doi_writer.writerow((doi, work['type'], issued))\n",
    "        for issn in work.get('ISSN', []):\n",
    "            # Hyphenation not needed\n",
    "            if '-' not in issn:\n",
    "                # Hyphenate ISSNs\n",
    "                issn = '{}{}{}{}-{}{}{}{}'.format(*issn)\n",
    "            issn_writer.writerow((doi, issn))"
   ]
  },
  {
   "cell_type": "code",
   "execution_count": 6,
   "metadata": {
    "collapsed": true,
    "deletable": true,
    "editable": true
   },
   "outputs": [],
   "source": [
    "client.close()"
   ]
  }
 ],
 "metadata": {
  "kernelspec": {
   "display_name": "Python [conda env:crossref]",
   "language": "python",
   "name": "conda-env-crossref-py"
  },
  "language_info": {
   "codemirror_mode": {
    "name": "ipython",
    "version": 3
   },
   "file_extension": ".py",
   "mimetype": "text/x-python",
   "name": "python",
   "nbconvert_exporter": "python",
   "pygments_lexer": "ipython3",
   "version": "3.6.0"
  }
 },
 "nbformat": 4,
 "nbformat_minor": 2
}
